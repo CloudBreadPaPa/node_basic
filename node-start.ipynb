{
 "cells": [
  {
   "cell_type": "code",
   "execution_count": 1,
   "id": "focused-mention",
   "metadata": {},
   "outputs": [
    {
     "name": "stdout",
     "output_type": "stream",
     "text": [
      "hello world\n"
     ]
    },
    {
     "data": {
      "text/plain": [
       "undefined"
      ]
     },
     "execution_count": 1,
     "metadata": {},
     "output_type": "execute_result"
    }
   ],
   "source": [
    "console.log('hello world')"
   ]
  },
  {
   "cell_type": "code",
   "execution_count": 4,
   "id": "military-freeware",
   "metadata": {},
   "outputs": [
    {
     "name": "stdout",
     "output_type": "stream",
     "text": [
      "This example is different!\n",
      "The result is displayed in the Command Line Interface\n"
     ]
    },
    {
     "data": {
      "text/plain": [
       "undefined"
      ]
     },
     "execution_count": 4,
     "metadata": {},
     "output_type": "execute_result"
    }
   ],
   "source": [
    "console.log('This example is different!');\n",
    "console.log('The result is displayed in the Command Line Interface');"
   ]
  },
  {
   "cell_type": "code",
   "execution_count": 5,
   "id": "liquid-emperor",
   "metadata": {},
   "outputs": [
    {
     "name": "stdout",
     "output_type": "stream",
     "text": [
      "This example is different!\n"
     ]
    },
    {
     "data": {
      "text/plain": [
       "undefined"
      ]
     },
     "execution_count": 5,
     "metadata": {},
     "output_type": "execute_result"
    }
   ],
   "source": [
    "// comments\n",
    "console.log('This example is different!');\n",
    "// console.log('The result is displayed in the Command Line Interface');\n"
   ]
  },
  {
   "cell_type": "code",
   "execution_count": 6,
   "id": "allied-anime",
   "metadata": {},
   "outputs": [
    {
     "name": "stdout",
     "output_type": "stream",
     "text": [
      "The result is displayed in the Command Line Interface\n"
     ]
    },
    {
     "data": {
      "text/plain": [
       "undefined"
      ]
     },
     "execution_count": 6,
     "metadata": {},
     "output_type": "execute_result"
    }
   ],
   "source": [
    "// multi line comments\n",
    "/*\n",
    "console.log('This example is different!');\n",
    "console.log('This example is different!');\n",
    "*/\n",
    "\n",
    "console.log('The result is displayed in the Command Line Interface');"
   ]
  },
  {
   "cell_type": "code",
   "execution_count": 7,
   "id": "consecutive-pearl",
   "metadata": {},
   "outputs": [
    {
     "name": "stdout",
     "output_type": "stream",
     "text": [
      "11\n"
     ]
    },
    {
     "data": {
      "text/plain": [
       "undefined"
      ]
     },
     "execution_count": 7,
     "metadata": {},
     "output_type": "execute_result"
    }
   ],
   "source": [
    "// variables\n",
    "var price1 = 5;\n",
    "var price2 = 6;\n",
    "var total = price1 + price2;\n",
    "console.log(total)"
   ]
  },
  {
   "cell_type": "code",
   "execution_count": 11,
   "id": "advance-thunder",
   "metadata": {},
   "outputs": [
    {
     "name": "stdout",
     "output_type": "stream",
     "text": [
      "Volvo\n"
     ]
    },
    {
     "data": {
      "text/plain": [
       "undefined"
      ]
     },
     "execution_count": 11,
     "metadata": {},
     "output_type": "execute_result"
    }
   ],
   "source": [
    "// global scope\n",
    "var carName = \"Volvo\";\n",
    "\n",
    "// code here can use carName\n",
    "\n",
    "function myFunction() {\n",
    "  // code here can also use carName\n",
    "    console.log(carName);\n",
    "}\n",
    "\n",
    "myFunction();"
   ]
  },
  {
   "cell_type": "code",
   "execution_count": 17,
   "id": "private-intermediate",
   "metadata": {},
   "outputs": [
    {
     "name": "stdout",
     "output_type": "stream",
     "text": [
      "Volvo test car\n",
      " outside of function\n"
     ]
    },
    {
     "data": {
      "text/plain": [
       "undefined"
      ]
     },
     "execution_count": 17,
     "metadata": {},
     "output_type": "execute_result"
    }
   ],
   "source": [
    "// function scope\n",
    "carName = \"\";\n",
    "// code here can NOT use carName\n",
    "\n",
    "function myFunction() {\n",
    "  var carName = \"Volvo\";\n",
    "  // code here CAN use carName\n",
    "  console.log(carName + \" test car\");\n",
    "}\n",
    "\n",
    "myFunction();\n",
    "\n",
    "// code here can NOT use carName\n",
    "console.log(carName + \" outside of function\");"
   ]
  },
  {
   "cell_type": "code",
   "execution_count": 18,
   "id": "addressed-voluntary",
   "metadata": {},
   "outputs": [
    {
     "name": "stdout",
     "output_type": "stream",
     "text": [
      "10\n",
      "2\n",
      "10\n"
     ]
    },
    {
     "data": {
      "text/plain": [
       "undefined"
      ]
     },
     "execution_count": 18,
     "metadata": {},
     "output_type": "execute_result"
    }
   ],
   "source": [
    "// Redeclaring Variables\n",
    "\n",
    "var x = 10;\n",
    "// Here x is 10\n",
    "console.log(x);\n",
    "\n",
    "{\n",
    "  let x = 2;\n",
    "  // Here x is 2\n",
    "  console.log(x);\n",
    "}\n",
    "\n",
    "// Here x is 10\n",
    "console.log(x);"
   ]
  },
  {
   "cell_type": "code",
   "execution_count": 22,
   "id": "polyphonic-adelaide",
   "metadata": {},
   "outputs": [
    {
     "ename": "SyntaxError",
     "evalue": "Identifier 'PI' has already been declared",
     "output_type": "error",
     "traceback": [
      "evalmachine.<anonymous>:1",
      "const PI = 3.141592653589793;",
      "^",
      "",
      "SyntaxError: Identifier 'PI' has already been declared",
      "    at evalmachine.<anonymous>:1:1",
      "    at Script.runInThisContext (vm.js:119:20)",
      "    at Object.runInThisContext (vm.js:309:38)",
      "    at run ([eval]:1054:15)",
      "    at onRunRequest ([eval]:888:18)",
      "    at onMessage ([eval]:848:13)",
      "    at process.emit (events.js:219:5)",
      "    at emit (internal/child_process.js:882:12)",
      "    at processTicksAndRejections (internal/process/task_queues.js:85:21)"
     ]
    }
   ],
   "source": [
    "const PI = 3.141592653589793;\n",
    "PI = 3.14;      // This will give an error\n",
    "console.log(PI);\n",
    "PI = PI + 10;   // This will also give an error\n",
    "console.log(PI);"
   ]
  },
  {
   "cell_type": "code",
   "execution_count": 28,
   "id": "specified-treasure",
   "metadata": {},
   "outputs": [
    {
     "name": "stdout",
     "output_type": "stream",
     "text": [
      "7\n",
      "15\n",
      "John Doe\n",
      "What a very nice day\n",
      "Hello5\n"
     ]
    },
    {
     "data": {
      "text/plain": [
       "undefined"
      ]
     },
     "execution_count": 28,
     "metadata": {},
     "output_type": "execute_result"
    }
   ],
   "source": [
    "// Operators\n",
    "var x = 5;         // assign the value 5 to x\n",
    "var y = 2;         // assign the value 2 to y\n",
    "var z = x + y;     // assign the value 7 to z (5 + 2)\n",
    "console.log(z);\n",
    "\n",
    "var x = 10;\n",
    "x += 5;\n",
    "console.log(x);\n",
    "\n",
    "var txt1 = \"John\";\n",
    "var txt2 = \"Doe\";\n",
    "var txt3 = txt1 + \" \" + txt2;\n",
    "console.log(txt3);\n",
    "\n",
    "var txt1 = \"What a very \";\n",
    "txt1 += \"nice day\";\n",
    "console.log(txt1);\n",
    "\n",
    "// Adding Strings and Numbers\n",
    "var x = 5 + 5;\n",
    "var y = \"5\" + 5;\n",
    "var z = \"Hello\" + 5;\n",
    "console.log(z);"
   ]
  },
  {
   "cell_type": "code",
   "execution_count": 31,
   "id": "tutorial-mirror",
   "metadata": {},
   "outputs": [
    {
     "name": "stdout",
     "output_type": "stream",
     "text": [
      "number\n",
      "string\n",
      "object\n"
     ]
    },
    {
     "data": {
      "text/plain": [
       "undefined"
      ]
     },
     "execution_count": 31,
     "metadata": {},
     "output_type": "execute_result"
    }
   ],
   "source": [
    "// data type\n",
    "// https://www.freecodecamp.org/news/javascript-data-types-typeof-explained/#:~:text=JavaScript%20Data%20Types%3A%20Typeof%20Explained%20typeof%20is%20a,are%20defined.%20There%20are%20other%20uses%20as%20well.\n",
    "var length = 16;\n",
    "console.log(typeof length)\n",
    "\n",
    "var lastName = \"Johlengthson\";\n",
    "console.log(typeof lastName)\n",
    "\n",
    "var x = {firstName:\"John\", lastName:\"Doe\"};    // Object\n",
    "console.log(typeof x)"
   ]
  },
  {
   "cell_type": "code",
   "execution_count": 32,
   "id": "super-perception",
   "metadata": {},
   "outputs": [
    {
     "name": "stdout",
     "output_type": "stream",
     "text": [
      "Volvo XC60\n",
      "Volvo XC60\n"
     ]
    },
    {
     "data": {
      "text/plain": [
       "undefined"
      ]
     },
     "execution_count": 32,
     "metadata": {},
     "output_type": "execute_result"
    }
   ],
   "source": [
    "// string\n",
    "var carName1 = \"Volvo XC60\";   // Using double quotes\n",
    "var carName2 = 'Volvo XC60';   // Using single quotes\n",
    "console.log(carName1)\n",
    "console.log(carName2)"
   ]
  },
  {
   "cell_type": "code",
   "execution_count": 33,
   "id": "unexpected-vector",
   "metadata": {},
   "outputs": [
    {
     "name": "stdout",
     "output_type": "stream",
     "text": [
      "It's alright\n",
      "He is called 'Johnny'\n",
      "He is called \"Johnny\"\n"
     ]
    },
    {
     "data": {
      "text/plain": [
       "undefined"
      ]
     },
     "execution_count": 33,
     "metadata": {},
     "output_type": "execute_result"
    }
   ],
   "source": [
    "var answer1 = \"It's alright\";             // Single quote inside double quotes\n",
    "var answer2 = \"He is called 'Johnny'\";    // Single quotes inside double quotes\n",
    "var answer3 = 'He is called \"Johnny\"';    // Double quotes inside single quotes\n",
    "console.log(answer1)\n",
    "console.log(answer2)\n",
    "console.log(answer3)"
   ]
  },
  {
   "cell_type": "code",
   "execution_count": 36,
   "id": "imperial-policy",
   "metadata": {},
   "outputs": [
    {
     "name": "stdout",
     "output_type": "stream",
     "text": [
      "34\n",
      "34\n",
      "12300000\n",
      "2\n"
     ]
    },
    {
     "data": {
      "text/plain": [
       "undefined"
      ]
     },
     "execution_count": 36,
     "metadata": {},
     "output_type": "execute_result"
    }
   ],
   "source": [
    "// number type\n",
    "var x1 = 34.00;     // Written with decimals\n",
    "var x2 = 34;        // Written without decimals\n",
    "console.log(x1)\n",
    "console.log(x2)\n",
    "\n",
    "var y = 123e5;      // 12300000\n",
    "var z = 123e-5;     // 0.00123\n",
    "console.log(y)\n",
    "console.log(2)"
   ]
  },
  {
   "cell_type": "code",
   "execution_count": 39,
   "id": "rational-jenny",
   "metadata": {},
   "outputs": [
    {
     "data": {
      "text/plain": [
       "undefined"
      ]
     },
     "execution_count": 39,
     "metadata": {},
     "output_type": "execute_result"
    }
   ],
   "source": [
    "// array\n",
    "var cars = [\"Saab\", \"Volvo\", \"BMW\"];\n"
   ]
  },
  {
   "cell_type": "code",
   "execution_count": 40,
   "id": "partial-sudan",
   "metadata": {},
   "outputs": [
    {
     "name": "stdout",
     "output_type": "stream",
     "text": [
      "[ 'Saab', 'Volvo', 'BMW' ]\n"
     ]
    },
    {
     "data": {
      "text/plain": [
       "undefined"
      ]
     },
     "execution_count": 40,
     "metadata": {},
     "output_type": "execute_result"
    }
   ],
   "source": [
    "console.log(cars)"
   ]
  },
  {
   "cell_type": "code",
   "execution_count": 42,
   "id": "acoustic-halifax",
   "metadata": {},
   "outputs": [
    {
     "name": "stdout",
     "output_type": "stream",
     "text": [
      "{ firstName: 'John', lastName: 'Doe', age: 50, eyeColor: 'blue' }\n"
     ]
    },
    {
     "data": {
      "text/plain": [
       "undefined"
      ]
     },
     "execution_count": 42,
     "metadata": {},
     "output_type": "execute_result"
    }
   ],
   "source": [
    "// object type\n",
    "var person = {firstName:\"John\", lastName:\"Doe\", age:50, eyeColor:\"blue\"};\n",
    "console.log(person)"
   ]
  },
  {
   "cell_type": "code",
   "execution_count": 44,
   "id": "honest-anderson",
   "metadata": {},
   "outputs": [
    {
     "name": "stdout",
     "output_type": "stream",
     "text": [
      "null\n"
     ]
    },
    {
     "data": {
      "text/plain": [
       "undefined"
      ]
     },
     "execution_count": 44,
     "metadata": {},
     "output_type": "execute_result"
    }
   ],
   "source": [
    "// null\n",
    "var person = {firstName:\"John\", lastName:\"Doe\", age:50, eyeColor:\"blue\"};\n",
    "person = null;    // Now value is null, but type is still an object\n",
    "console.log(person)"
   ]
  },
  {
   "cell_type": "code",
   "execution_count": null,
   "id": "cultural-harvest",
   "metadata": {},
   "outputs": [],
   "source": [
    "// compare type\n",
    "typeof undefined           // undefined\n",
    "typeof null                // object\n",
    "\n",
    "null === undefined         // false\n",
    "null == undefined          // true"
   ]
  },
  {
   "cell_type": "code",
   "execution_count": null,
   "id": "included-flower",
   "metadata": {},
   "outputs": [],
   "source": []
  },
  {
   "cell_type": "code",
   "execution_count": 47,
   "id": "opposed-potential",
   "metadata": {},
   "outputs": [
    {
     "name": "stdout",
     "output_type": "stream",
     "text": [
      "2\n"
     ]
    },
    {
     "data": {
      "text/plain": [
       "2"
      ]
     },
     "execution_count": 47,
     "metadata": {},
     "output_type": "execute_result"
    }
   ],
   "source": [
    "// function\n",
    "function myFunction(p1, p2) {\n",
    "  return p1 * p2;   // The function returns the product of p1 and p2\n",
    "}\n",
    "\n",
    "ret = myFunction(1,2);\n",
    "console.log(ret)"
   ]
  },
  {
   "cell_type": "code",
   "execution_count": 46,
   "id": "floral-pavilion",
   "metadata": {},
   "outputs": [
    {
     "data": {
      "text/plain": [
       "25"
      ]
     },
     "execution_count": 46,
     "metadata": {},
     "output_type": "execute_result"
    }
   ],
   "source": [
    "function toCelsius(fahrenheit) {\n",
    "  return (5/9) * (fahrenheit-32);\n",
    "}\n",
    "\n",
    "toCelsius(77)"
   ]
  },
  {
   "cell_type": "code",
   "execution_count": 53,
   "id": "instrumental-conservation",
   "metadata": {},
   "outputs": [
    {
     "name": "stdout",
     "output_type": "stream",
     "text": [
      "\n",
      "Volvo\n"
     ]
    },
    {
     "data": {
      "text/plain": [
       "undefined"
      ]
     },
     "execution_count": 53,
     "metadata": {},
     "output_type": "execute_result"
    }
   ],
   "source": [
    "// code here can NOT use carName\n",
    "//carName\n",
    "function myFunction() {\n",
    "  var carName = \"Volvo\";\n",
    "  // code here CAN use carName\n",
    "  console.log(carName);\n",
    "}\n",
    "\n",
    "// code here can NOT use carName\n",
    "console.log(carName)\n",
    "\n",
    "myFunction();"
   ]
  },
  {
   "cell_type": "code",
   "execution_count": 56,
   "id": "varying-despite",
   "metadata": {},
   "outputs": [
    {
     "name": "stdout",
     "output_type": "stream",
     "text": [
      "{ firstName: 'John', lastName: 'Doe', age: 50, eyeColor: 'blue' }\n"
     ]
    },
    {
     "data": {
      "text/plain": [
       "undefined"
      ]
     },
     "execution_count": 56,
     "metadata": {},
     "output_type": "execute_result"
    }
   ],
   "source": [
    "// object\n",
    "var person = {\n",
    "  firstName: \"John\",\n",
    "  lastName: \"Doe\",\n",
    "  age: 50,\n",
    "  eyeColor: \"blue\"\n",
    "};\n",
    "\n",
    "console.log(person)"
   ]
  },
  {
   "cell_type": "code",
   "execution_count": 57,
   "id": "meaningful-satellite",
   "metadata": {},
   "outputs": [
    {
     "data": {
      "text/plain": [
       "'Doe'"
      ]
     },
     "execution_count": 57,
     "metadata": {},
     "output_type": "execute_result"
    }
   ],
   "source": [
    "// access object property\n",
    "person.lastName;"
   ]
  },
  {
   "cell_type": "code",
   "execution_count": 58,
   "id": "communist-bench",
   "metadata": {},
   "outputs": [
    {
     "data": {
      "text/plain": [
       "'Doe'"
      ]
     },
     "execution_count": 58,
     "metadata": {},
     "output_type": "execute_result"
    }
   ],
   "source": [
    "person[\"lastName\"];"
   ]
  },
  {
   "cell_type": "code",
   "execution_count": 65,
   "id": "labeled-classic",
   "metadata": {},
   "outputs": [
    {
     "data": {
      "text/plain": [
       "'John Doe'"
      ]
     },
     "execution_count": 65,
     "metadata": {},
     "output_type": "execute_result"
    }
   ],
   "source": [
    "// Object method\n",
    "var person = {\n",
    "  firstName: \"John\",\n",
    "  lastName : \"Doe\",\n",
    "  id       : 5566,\n",
    "  fullName : function() {\n",
    "    return this.firstName + \" \" + this.lastName;\n",
    "  }\n",
    "};\n",
    "\n",
    "name = person.fullName();\n",
    "name;"
   ]
  },
  {
   "cell_type": "code",
   "execution_count": 66,
   "id": "collective-introduction",
   "metadata": {},
   "outputs": [
    {
     "data": {
      "text/plain": [
       "26"
      ]
     },
     "execution_count": 66,
     "metadata": {},
     "output_type": "execute_result"
    }
   ],
   "source": [
    "// string length\n",
    "var txt = \"ABCDEFGHIJKLMNOPQRSTUVWXYZ\";\n",
    "var sln = txt.length;\n",
    "sln;"
   ]
  },
  {
   "cell_type": "code",
   "execution_count": 68,
   "id": "duplicate-worse",
   "metadata": {},
   "outputs": [
    {
     "data": {
      "text/plain": [
       "'We are the so-called \"Vikings\" from the north.'"
      ]
     },
     "execution_count": 68,
     "metadata": {},
     "output_type": "execute_result"
    }
   ],
   "source": [
    "// escape charactor\n",
    "var x = \"We are the so-called \\\"Vikings\\\" from the north.\";\n",
    "x;"
   ]
  },
  {
   "cell_type": "code",
   "execution_count": 70,
   "id": "suspended-assurance",
   "metadata": {},
   "outputs": [
    {
     "data": {
      "text/plain": [
       "7"
      ]
     },
     "execution_count": 70,
     "metadata": {},
     "output_type": "execute_result"
    }
   ],
   "source": [
    "// find string\n",
    "var str = \"Please locate where 'locate' occurs!\";\n",
    "var pos = str.indexOf(\"locate\");\n",
    "pos;"
   ]
  },
  {
   "cell_type": "code",
   "execution_count": 72,
   "id": "caroline-vintage",
   "metadata": {},
   "outputs": [
    {
     "data": {
      "text/plain": [
       "21"
      ]
     },
     "execution_count": 72,
     "metadata": {},
     "output_type": "execute_result"
    }
   ],
   "source": [
    "// last coourence\n",
    "var str = \"Please locate where 'locate' occurs!\";\n",
    "var pos = str.lastIndexOf(\"locate\");\n",
    "pos;"
   ]
  },
  {
   "cell_type": "code",
   "execution_count": 74,
   "id": "homeless-frank",
   "metadata": {},
   "outputs": [
    {
     "data": {
      "text/plain": [
       "'Banana'"
      ]
     },
     "execution_count": 74,
     "metadata": {},
     "output_type": "execute_result"
    }
   ],
   "source": [
    "// string slice\n",
    "var str = \"Apple, Banana, Kiwi\";\n",
    "var res = str.slice(7, 13);\n",
    "res;"
   ]
  },
  {
   "cell_type": "code",
   "execution_count": 75,
   "id": "satisfied-spyware",
   "metadata": {},
   "outputs": [
    {
     "data": {
      "text/plain": [
       "'Banana'"
      ]
     },
     "execution_count": 75,
     "metadata": {},
     "output_type": "execute_result"
    }
   ],
   "source": [
    "// subsrting\n",
    "var str = \"Apple, Banana, Kiwi\";\n",
    "var res = str.substring(7, 13);\n",
    "res;"
   ]
  },
  {
   "cell_type": "code",
   "execution_count": 76,
   "id": "false-smell",
   "metadata": {},
   "outputs": [
    {
     "data": {
      "text/plain": [
       "'Please visit W3Schools!'"
      ]
     },
     "execution_count": 76,
     "metadata": {},
     "output_type": "execute_result"
    }
   ],
   "source": [
    "// replace\n",
    "str = \"Please visit Microsoft!\";\n",
    "var n = str.replace(\"Microsoft\", \"W3Schools\");\n",
    "n;"
   ]
  },
  {
   "cell_type": "code",
   "execution_count": 78,
   "id": "noted-insert",
   "metadata": {},
   "outputs": [
    {
     "data": {
      "text/plain": [
       "'HELLO WORLD!'"
      ]
     },
     "execution_count": 78,
     "metadata": {},
     "output_type": "execute_result"
    }
   ],
   "source": [
    "// uppercase\n",
    "var text1 = \"Hello World!\";       // String\n",
    "var text2 = text1.toUpperCase();  // text2 is text1 converted to upper\n",
    "text2;"
   ]
  },
  {
   "cell_type": "code",
   "execution_count": 79,
   "id": "monetary-consumer",
   "metadata": {},
   "outputs": [
    {
     "data": {
      "text/plain": [
       "'Hello World'"
      ]
     },
     "execution_count": 79,
     "metadata": {},
     "output_type": "execute_result"
    }
   ],
   "source": [
    "// concat string\n",
    "var text1 = \"Hello\";\n",
    "var text2 = \"World\";\n",
    "var text3 = text1.concat(\" \", text2);\n",
    "text3;"
   ]
  },
  {
   "cell_type": "code",
   "execution_count": 81,
   "id": "bridal-element",
   "metadata": {},
   "outputs": [
    {
     "name": "stdout",
     "output_type": "stream",
     "text": [
      "Hello World!\n"
     ]
    },
    {
     "data": {
      "text/plain": [
       "undefined"
      ]
     },
     "execution_count": 81,
     "metadata": {},
     "output_type": "execute_result"
    }
   ],
   "source": [
    "// string trim\n",
    "var str = \"       Hello World!        \";\n",
    "console.log(str.trim());"
   ]
  },
  {
   "cell_type": "code",
   "execution_count": 84,
   "id": "numerical-county",
   "metadata": {},
   "outputs": [
    {
     "data": {
      "text/plain": [
       "'0005'"
      ]
     },
     "execution_count": 84,
     "metadata": {},
     "output_type": "execute_result"
    }
   ],
   "source": [
    "// string padding\n",
    "var str = \"5\";\n",
    "str = str.padStart(4,0);\n",
    "// result is 0005\n",
    "str;"
   ]
  },
  {
   "cell_type": "code",
   "execution_count": 86,
   "id": "determined-asthma",
   "metadata": {},
   "outputs": [
    {
     "data": {
      "text/plain": [
       "'H'"
      ]
     },
     "execution_count": 86,
     "metadata": {},
     "output_type": "execute_result"
    }
   ],
   "source": [
    "// charAt\n",
    "var str = \"HELLO WORLD\";\n",
    "res = str.charAt(0);            // returns H\n",
    "res;"
   ]
  },
  {
   "cell_type": "code",
   "execution_count": 88,
   "id": "insured-cotton",
   "metadata": {},
   "outputs": [
    {
     "data": {
      "text/plain": [
       "[ 'a', 'b', 'c', 'd', 'e' ]"
      ]
     },
     "execution_count": 88,
     "metadata": {},
     "output_type": "execute_result"
    }
   ],
   "source": [
    "// split string\n",
    "var txt = \"a,b,c,d,e\";   // String\n",
    "txt.split(\",\");          // Split on commas"
   ]
  },
  {
   "cell_type": "code",
   "execution_count": null,
   "id": "surrounded-theorem",
   "metadata": {},
   "outputs": [],
   "source": []
  }
 ],
 "metadata": {
  "kernelspec": {
   "display_name": "Javascript (Node.js)",
   "language": "javascript",
   "name": "javascript"
  },
  "language_info": {
   "file_extension": ".js",
   "mimetype": "application/javascript",
   "name": "javascript",
   "version": "13.3.0"
  }
 },
 "nbformat": 4,
 "nbformat_minor": 5
}
