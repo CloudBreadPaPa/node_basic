{
 "cells": [
  {
   "cell_type": "code",
   "execution_count": 1,
   "id": "naked-workplace",
   "metadata": {},
   "outputs": [
    {
     "name": "stdout",
     "output_type": "stream",
     "text": [
      "hello world\n"
     ]
    },
    {
     "data": {
      "text/plain": [
       "undefined"
      ]
     },
     "execution_count": 1,
     "metadata": {},
     "output_type": "execute_result"
    }
   ],
   "source": [
    "console.log('hello world')"
   ]
  },
  {
   "cell_type": "code",
   "execution_count": 4,
   "id": "appropriate-investigation",
   "metadata": {},
   "outputs": [
    {
     "name": "stdout",
     "output_type": "stream",
     "text": [
      "This example is different!\n",
      "The result is displayed in the Command Line Interface\n"
     ]
    },
    {
     "data": {
      "text/plain": [
       "undefined"
      ]
     },
     "execution_count": 4,
     "metadata": {},
     "output_type": "execute_result"
    }
   ],
   "source": [
    "console.log('This example is different!');\n",
    "console.log('The result is displayed in the Command Line Interface');"
   ]
  },
  {
   "cell_type": "code",
   "execution_count": 5,
   "id": "exempt-greek",
   "metadata": {},
   "outputs": [
    {
     "name": "stdout",
     "output_type": "stream",
     "text": [
      "This example is different!\n"
     ]
    },
    {
     "data": {
      "text/plain": [
       "undefined"
      ]
     },
     "execution_count": 5,
     "metadata": {},
     "output_type": "execute_result"
    }
   ],
   "source": [
    "// comments\n",
    "console.log('This example is different!');\n",
    "// console.log('The result is displayed in the Command Line Interface');\n"
   ]
  },
  {
   "cell_type": "code",
   "execution_count": 6,
   "id": "marked-child",
   "metadata": {},
   "outputs": [
    {
     "name": "stdout",
     "output_type": "stream",
     "text": [
      "The result is displayed in the Command Line Interface\n"
     ]
    },
    {
     "data": {
      "text/plain": [
       "undefined"
      ]
     },
     "execution_count": 6,
     "metadata": {},
     "output_type": "execute_result"
    }
   ],
   "source": [
    "// multi line comments\n",
    "/*\n",
    "console.log('This example is different!');\n",
    "console.log('This example is different!');\n",
    "*/\n",
    "\n",
    "console.log('The result is displayed in the Command Line Interface');"
   ]
  },
  {
   "cell_type": "code",
   "execution_count": 7,
   "id": "classical-mixer",
   "metadata": {},
   "outputs": [
    {
     "name": "stdout",
     "output_type": "stream",
     "text": [
      "11\n"
     ]
    },
    {
     "data": {
      "text/plain": [
       "undefined"
      ]
     },
     "execution_count": 7,
     "metadata": {},
     "output_type": "execute_result"
    }
   ],
   "source": [
    "// variables\n",
    "var price1 = 5;\n",
    "var price2 = 6;\n",
    "var total = price1 + price2;\n",
    "console.log(total)"
   ]
  },
  {
   "cell_type": "code",
   "execution_count": 11,
   "id": "amazing-journalism",
   "metadata": {},
   "outputs": [
    {
     "name": "stdout",
     "output_type": "stream",
     "text": [
      "Volvo\n"
     ]
    },
    {
     "data": {
      "text/plain": [
       "undefined"
      ]
     },
     "execution_count": 11,
     "metadata": {},
     "output_type": "execute_result"
    }
   ],
   "source": [
    "// global scope\n",
    "var carName = \"Volvo\";\n",
    "\n",
    "// code here can use carName\n",
    "\n",
    "function myFunction() {\n",
    "  // code here can also use carName\n",
    "    console.log(carName);\n",
    "}\n",
    "\n",
    "myFunction();"
   ]
  },
  {
   "cell_type": "code",
   "execution_count": 17,
   "id": "liable-doctor",
   "metadata": {},
   "outputs": [
    {
     "name": "stdout",
     "output_type": "stream",
     "text": [
      "Volvo test car\n",
      " outside of function\n"
     ]
    },
    {
     "data": {
      "text/plain": [
       "undefined"
      ]
     },
     "execution_count": 17,
     "metadata": {},
     "output_type": "execute_result"
    }
   ],
   "source": [
    "// function scope\n",
    "carName = \"\";\n",
    "// code here can NOT use carName\n",
    "\n",
    "function myFunction() {\n",
    "  var carName = \"Volvo\";\n",
    "  // code here CAN use carName\n",
    "  console.log(carName + \" test car\");\n",
    "}\n",
    "\n",
    "myFunction();\n",
    "\n",
    "// code here can NOT use carName\n",
    "console.log(carName + \" outside of function\");"
   ]
  },
  {
   "cell_type": "code",
   "execution_count": 18,
   "id": "invalid-childhood",
   "metadata": {},
   "outputs": [
    {
     "name": "stdout",
     "output_type": "stream",
     "text": [
      "10\n",
      "2\n",
      "10\n"
     ]
    },
    {
     "data": {
      "text/plain": [
       "undefined"
      ]
     },
     "execution_count": 18,
     "metadata": {},
     "output_type": "execute_result"
    }
   ],
   "source": [
    "// Redeclaring Variables\n",
    "\n",
    "var x = 10;\n",
    "// Here x is 10\n",
    "console.log(x);\n",
    "\n",
    "{\n",
    "  let x = 2;\n",
    "  // Here x is 2\n",
    "  console.log(x);\n",
    "}\n",
    "\n",
    "// Here x is 10\n",
    "console.log(x);"
   ]
  },
  {
   "cell_type": "code",
   "execution_count": 22,
   "id": "instant-dining",
   "metadata": {},
   "outputs": [
    {
     "ename": "SyntaxError",
     "evalue": "Identifier 'PI' has already been declared",
     "output_type": "error",
     "traceback": [
      "evalmachine.<anonymous>:1",
      "const PI = 3.141592653589793;",
      "^",
      "",
      "SyntaxError: Identifier 'PI' has already been declared",
      "    at evalmachine.<anonymous>:1:1",
      "    at Script.runInThisContext (vm.js:119:20)",
      "    at Object.runInThisContext (vm.js:309:38)",
      "    at run ([eval]:1054:15)",
      "    at onRunRequest ([eval]:888:18)",
      "    at onMessage ([eval]:848:13)",
      "    at process.emit (events.js:219:5)",
      "    at emit (internal/child_process.js:882:12)",
      "    at processTicksAndRejections (internal/process/task_queues.js:85:21)"
     ]
    }
   ],
   "source": [
    "const PI = 3.141592653589793;\n",
    "PI = 3.14;      // This will give an error\n",
    "console.log(PI);\n",
    "PI = PI + 10;   // This will also give an error\n",
    "console.log(PI);"
   ]
  },
  {
   "cell_type": "code",
   "execution_count": 28,
   "id": "disciplinary-payroll",
   "metadata": {},
   "outputs": [
    {
     "name": "stdout",
     "output_type": "stream",
     "text": [
      "7\n",
      "15\n",
      "John Doe\n",
      "What a very nice day\n",
      "Hello5\n"
     ]
    },
    {
     "data": {
      "text/plain": [
       "undefined"
      ]
     },
     "execution_count": 28,
     "metadata": {},
     "output_type": "execute_result"
    }
   ],
   "source": [
    "// Operators\n",
    "var x = 5;         // assign the value 5 to x\n",
    "var y = 2;         // assign the value 2 to y\n",
    "var z = x + y;     // assign the value 7 to z (5 + 2)\n",
    "console.log(z);\n",
    "\n",
    "var x = 10;\n",
    "x += 5;\n",
    "console.log(x);\n",
    "\n",
    "var txt1 = \"John\";\n",
    "var txt2 = \"Doe\";\n",
    "var txt3 = txt1 + \" \" + txt2;\n",
    "console.log(txt3);\n",
    "\n",
    "var txt1 = \"What a very \";\n",
    "txt1 += \"nice day\";\n",
    "console.log(txt1);\n",
    "\n",
    "// Adding Strings and Numbers\n",
    "var x = 5 + 5;\n",
    "var y = \"5\" + 5;\n",
    "var z = \"Hello\" + 5;\n",
    "console.log(z);"
   ]
  },
  {
   "cell_type": "code",
   "execution_count": 31,
   "id": "matched-drink",
   "metadata": {},
   "outputs": [
    {
     "name": "stdout",
     "output_type": "stream",
     "text": [
      "number\n",
      "string\n",
      "object\n"
     ]
    },
    {
     "data": {
      "text/plain": [
       "undefined"
      ]
     },
     "execution_count": 31,
     "metadata": {},
     "output_type": "execute_result"
    }
   ],
   "source": [
    "// data type\n",
    "// https://www.freecodecamp.org/news/javascript-data-types-typeof-explained/#:~:text=JavaScript%20Data%20Types%3A%20Typeof%20Explained%20typeof%20is%20a,are%20defined.%20There%20are%20other%20uses%20as%20well.\n",
    "var length = 16;\n",
    "console.log(typeof length)\n",
    "\n",
    "var lastName = \"Johlengthson\";\n",
    "console.log(typeof lastName)\n",
    "\n",
    "var x = {firstName:\"John\", lastName:\"Doe\"};    // Object\n",
    "console.log(typeof x)"
   ]
  },
  {
   "cell_type": "code",
   "execution_count": null,
   "id": "demonstrated-sphere",
   "metadata": {},
   "outputs": [],
   "source": []
  }
 ],
 "metadata": {
  "kernelspec": {
   "display_name": "Javascript (Node.js)",
   "language": "javascript",
   "name": "javascript"
  },
  "language_info": {
   "file_extension": ".js",
   "mimetype": "application/javascript",
   "name": "javascript",
   "version": "13.3.0"
  }
 },
 "nbformat": 4,
 "nbformat_minor": 5
}
