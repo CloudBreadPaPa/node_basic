{
 "cells": [
  {
   "cell_type": "code",
   "execution_count": 1,
   "id": "parental-setup",
   "metadata": {},
   "outputs": [
    {
     "name": "stdout",
     "output_type": "stream",
     "text": [
      "hello world\n"
     ]
    },
    {
     "data": {
      "text/plain": [
       "undefined"
      ]
     },
     "execution_count": 1,
     "metadata": {},
     "output_type": "execute_result"
    }
   ],
   "source": [
    "console.log('hello world')"
   ]
  },
  {
   "cell_type": "code",
   "execution_count": 4,
   "id": "chronic-mobile",
   "metadata": {},
   "outputs": [
    {
     "name": "stdout",
     "output_type": "stream",
     "text": [
      "This example is different!\n",
      "The result is displayed in the Command Line Interface\n"
     ]
    },
    {
     "data": {
      "text/plain": [
       "undefined"
      ]
     },
     "execution_count": 4,
     "metadata": {},
     "output_type": "execute_result"
    }
   ],
   "source": [
    "console.log('This example is different!');\n",
    "console.log('The result is displayed in the Command Line Interface');"
   ]
  },
  {
   "cell_type": "code",
   "execution_count": 5,
   "id": "driven-blade",
   "metadata": {},
   "outputs": [
    {
     "name": "stdout",
     "output_type": "stream",
     "text": [
      "This example is different!\n"
     ]
    },
    {
     "data": {
      "text/plain": [
       "undefined"
      ]
     },
     "execution_count": 5,
     "metadata": {},
     "output_type": "execute_result"
    }
   ],
   "source": [
    "// comments\n",
    "console.log('This example is different!');\n",
    "// console.log('The result is displayed in the Command Line Interface');\n"
   ]
  },
  {
   "cell_type": "code",
   "execution_count": 6,
   "id": "cardiac-cemetery",
   "metadata": {},
   "outputs": [
    {
     "name": "stdout",
     "output_type": "stream",
     "text": [
      "The result is displayed in the Command Line Interface\n"
     ]
    },
    {
     "data": {
      "text/plain": [
       "undefined"
      ]
     },
     "execution_count": 6,
     "metadata": {},
     "output_type": "execute_result"
    }
   ],
   "source": [
    "// multi line comments\n",
    "/*\n",
    "console.log('This example is different!');\n",
    "console.log('This example is different!');\n",
    "*/\n",
    "\n",
    "console.log('The result is displayed in the Command Line Interface');"
   ]
  },
  {
   "cell_type": "code",
   "execution_count": 7,
   "id": "single-roberts",
   "metadata": {},
   "outputs": [
    {
     "name": "stdout",
     "output_type": "stream",
     "text": [
      "11\n"
     ]
    },
    {
     "data": {
      "text/plain": [
       "undefined"
      ]
     },
     "execution_count": 7,
     "metadata": {},
     "output_type": "execute_result"
    }
   ],
   "source": [
    "// variables\n",
    "var price1 = 5;\n",
    "var price2 = 6;\n",
    "var total = price1 + price2;\n",
    "console.log(total)"
   ]
  },
  {
   "cell_type": "code",
   "execution_count": 11,
   "id": "funded-czech",
   "metadata": {},
   "outputs": [
    {
     "name": "stdout",
     "output_type": "stream",
     "text": [
      "Volvo\n"
     ]
    },
    {
     "data": {
      "text/plain": [
       "undefined"
      ]
     },
     "execution_count": 11,
     "metadata": {},
     "output_type": "execute_result"
    }
   ],
   "source": [
    "// global scope\n",
    "var carName = \"Volvo\";\n",
    "\n",
    "// code here can use carName\n",
    "\n",
    "function myFunction() {\n",
    "  // code here can also use carName\n",
    "    console.log(carName);\n",
    "}\n",
    "\n",
    "myFunction();"
   ]
  },
  {
   "cell_type": "code",
   "execution_count": 17,
   "id": "accepting-airplane",
   "metadata": {},
   "outputs": [
    {
     "name": "stdout",
     "output_type": "stream",
     "text": [
      "Volvo test car\n",
      " outside of function\n"
     ]
    },
    {
     "data": {
      "text/plain": [
       "undefined"
      ]
     },
     "execution_count": 17,
     "metadata": {},
     "output_type": "execute_result"
    }
   ],
   "source": [
    "// function scope\n",
    "carName = \"\";\n",
    "// code here can NOT use carName\n",
    "\n",
    "function myFunction() {\n",
    "  var carName = \"Volvo\";\n",
    "  // code here CAN use carName\n",
    "  console.log(carName + \" test car\");\n",
    "}\n",
    "\n",
    "myFunction();\n",
    "\n",
    "// code here can NOT use carName\n",
    "console.log(carName + \" outside of function\");"
   ]
  },
  {
   "cell_type": "code",
   "execution_count": 18,
   "id": "growing-firewall",
   "metadata": {},
   "outputs": [
    {
     "name": "stdout",
     "output_type": "stream",
     "text": [
      "10\n",
      "2\n",
      "10\n"
     ]
    },
    {
     "data": {
      "text/plain": [
       "undefined"
      ]
     },
     "execution_count": 18,
     "metadata": {},
     "output_type": "execute_result"
    }
   ],
   "source": [
    "// Redeclaring Variables\n",
    "\n",
    "var x = 10;\n",
    "// Here x is 10\n",
    "console.log(x);\n",
    "\n",
    "{\n",
    "  let x = 2;\n",
    "  // Here x is 2\n",
    "  console.log(x);\n",
    "}\n",
    "\n",
    "// Here x is 10\n",
    "console.log(x);"
   ]
  },
  {
   "cell_type": "code",
   "execution_count": 22,
   "id": "irish-compound",
   "metadata": {},
   "outputs": [
    {
     "ename": "SyntaxError",
     "evalue": "Identifier 'PI' has already been declared",
     "output_type": "error",
     "traceback": [
      "evalmachine.<anonymous>:1",
      "const PI = 3.141592653589793;",
      "^",
      "",
      "SyntaxError: Identifier 'PI' has already been declared",
      "    at evalmachine.<anonymous>:1:1",
      "    at Script.runInThisContext (vm.js:119:20)",
      "    at Object.runInThisContext (vm.js:309:38)",
      "    at run ([eval]:1054:15)",
      "    at onRunRequest ([eval]:888:18)",
      "    at onMessage ([eval]:848:13)",
      "    at process.emit (events.js:219:5)",
      "    at emit (internal/child_process.js:882:12)",
      "    at processTicksAndRejections (internal/process/task_queues.js:85:21)"
     ]
    }
   ],
   "source": [
    "const PI = 3.141592653589793;\n",
    "PI = 3.14;      // This will give an error\n",
    "console.log(PI);\n",
    "PI = PI + 10;   // This will also give an error\n",
    "console.log(PI);"
   ]
  },
  {
   "cell_type": "code",
   "execution_count": 28,
   "id": "incredible-elder",
   "metadata": {},
   "outputs": [
    {
     "name": "stdout",
     "output_type": "stream",
     "text": [
      "7\n",
      "15\n",
      "John Doe\n",
      "What a very nice day\n",
      "Hello5\n"
     ]
    },
    {
     "data": {
      "text/plain": [
       "undefined"
      ]
     },
     "execution_count": 28,
     "metadata": {},
     "output_type": "execute_result"
    }
   ],
   "source": [
    "// Operators\n",
    "var x = 5;         // assign the value 5 to x\n",
    "var y = 2;         // assign the value 2 to y\n",
    "var z = x + y;     // assign the value 7 to z (5 + 2)\n",
    "console.log(z);\n",
    "\n",
    "var x = 10;\n",
    "x += 5;\n",
    "console.log(x);\n",
    "\n",
    "var txt1 = \"John\";\n",
    "var txt2 = \"Doe\";\n",
    "var txt3 = txt1 + \" \" + txt2;\n",
    "console.log(txt3);\n",
    "\n",
    "var txt1 = \"What a very \";\n",
    "txt1 += \"nice day\";\n",
    "console.log(txt1);\n",
    "\n",
    "// Adding Strings and Numbers\n",
    "var x = 5 + 5;\n",
    "var y = \"5\" + 5;\n",
    "var z = \"Hello\" + 5;\n",
    "console.log(z);"
   ]
  },
  {
   "cell_type": "code",
   "execution_count": 31,
   "id": "ready-classification",
   "metadata": {},
   "outputs": [
    {
     "name": "stdout",
     "output_type": "stream",
     "text": [
      "number\n",
      "string\n",
      "object\n"
     ]
    },
    {
     "data": {
      "text/plain": [
       "undefined"
      ]
     },
     "execution_count": 31,
     "metadata": {},
     "output_type": "execute_result"
    }
   ],
   "source": [
    "// data type\n",
    "// https://www.freecodecamp.org/news/javascript-data-types-typeof-explained/#:~:text=JavaScript%20Data%20Types%3A%20Typeof%20Explained%20typeof%20is%20a,are%20defined.%20There%20are%20other%20uses%20as%20well.\n",
    "var length = 16;\n",
    "console.log(typeof length)\n",
    "\n",
    "var lastName = \"Johlengthson\";\n",
    "console.log(typeof lastName)\n",
    "\n",
    "var x = {firstName:\"John\", lastName:\"Doe\"};    // Object\n",
    "console.log(typeof x)"
   ]
  },
  {
   "cell_type": "code",
   "execution_count": 32,
   "id": "opened-relationship",
   "metadata": {},
   "outputs": [
    {
     "name": "stdout",
     "output_type": "stream",
     "text": [
      "Volvo XC60\n",
      "Volvo XC60\n"
     ]
    },
    {
     "data": {
      "text/plain": [
       "undefined"
      ]
     },
     "execution_count": 32,
     "metadata": {},
     "output_type": "execute_result"
    }
   ],
   "source": [
    "// string\n",
    "var carName1 = \"Volvo XC60\";   // Using double quotes\n",
    "var carName2 = 'Volvo XC60';   // Using single quotes\n",
    "console.log(carName1)\n",
    "console.log(carName2)"
   ]
  },
  {
   "cell_type": "code",
   "execution_count": 33,
   "id": "alive-leisure",
   "metadata": {},
   "outputs": [
    {
     "name": "stdout",
     "output_type": "stream",
     "text": [
      "It's alright\n",
      "He is called 'Johnny'\n",
      "He is called \"Johnny\"\n"
     ]
    },
    {
     "data": {
      "text/plain": [
       "undefined"
      ]
     },
     "execution_count": 33,
     "metadata": {},
     "output_type": "execute_result"
    }
   ],
   "source": [
    "var answer1 = \"It's alright\";             // Single quote inside double quotes\n",
    "var answer2 = \"He is called 'Johnny'\";    // Single quotes inside double quotes\n",
    "var answer3 = 'He is called \"Johnny\"';    // Double quotes inside single quotes\n",
    "console.log(answer1)\n",
    "console.log(answer2)\n",
    "console.log(answer3)"
   ]
  },
  {
   "cell_type": "code",
   "execution_count": 36,
   "id": "classical-instrumentation",
   "metadata": {},
   "outputs": [
    {
     "name": "stdout",
     "output_type": "stream",
     "text": [
      "34\n",
      "34\n",
      "12300000\n",
      "2\n"
     ]
    },
    {
     "data": {
      "text/plain": [
       "undefined"
      ]
     },
     "execution_count": 36,
     "metadata": {},
     "output_type": "execute_result"
    }
   ],
   "source": [
    "// number type\n",
    "var x1 = 34.00;     // Written with decimals\n",
    "var x2 = 34;        // Written without decimals\n",
    "console.log(x1)\n",
    "console.log(x2)\n",
    "\n",
    "var y = 123e5;      // 12300000\n",
    "var z = 123e-5;     // 0.00123\n",
    "console.log(y)\n",
    "console.log(2)"
   ]
  },
  {
   "cell_type": "code",
   "execution_count": 39,
   "id": "dimensional-assessment",
   "metadata": {},
   "outputs": [
    {
     "data": {
      "text/plain": [
       "undefined"
      ]
     },
     "execution_count": 39,
     "metadata": {},
     "output_type": "execute_result"
    }
   ],
   "source": [
    "// array\n",
    "var cars = [\"Saab\", \"Volvo\", \"BMW\"];\n"
   ]
  },
  {
   "cell_type": "code",
   "execution_count": 40,
   "id": "hindu-vegetable",
   "metadata": {},
   "outputs": [
    {
     "name": "stdout",
     "output_type": "stream",
     "text": [
      "[ 'Saab', 'Volvo', 'BMW' ]\n"
     ]
    },
    {
     "data": {
      "text/plain": [
       "undefined"
      ]
     },
     "execution_count": 40,
     "metadata": {},
     "output_type": "execute_result"
    }
   ],
   "source": [
    "console.log(cars)"
   ]
  },
  {
   "cell_type": "code",
   "execution_count": 42,
   "id": "drawn-guide",
   "metadata": {},
   "outputs": [
    {
     "name": "stdout",
     "output_type": "stream",
     "text": [
      "{ firstName: 'John', lastName: 'Doe', age: 50, eyeColor: 'blue' }\n"
     ]
    },
    {
     "data": {
      "text/plain": [
       "undefined"
      ]
     },
     "execution_count": 42,
     "metadata": {},
     "output_type": "execute_result"
    }
   ],
   "source": [
    "// object type\n",
    "var person = {firstName:\"John\", lastName:\"Doe\", age:50, eyeColor:\"blue\"};\n",
    "console.log(person)"
   ]
  },
  {
   "cell_type": "code",
   "execution_count": 44,
   "id": "described-eagle",
   "metadata": {},
   "outputs": [
    {
     "name": "stdout",
     "output_type": "stream",
     "text": [
      "null\n"
     ]
    },
    {
     "data": {
      "text/plain": [
       "undefined"
      ]
     },
     "execution_count": 44,
     "metadata": {},
     "output_type": "execute_result"
    }
   ],
   "source": [
    "// null\n",
    "var person = {firstName:\"John\", lastName:\"Doe\", age:50, eyeColor:\"blue\"};\n",
    "person = null;    // Now value is null, but type is still an object\n",
    "console.log(person)"
   ]
  },
  {
   "cell_type": "code",
   "execution_count": null,
   "id": "spread-guarantee",
   "metadata": {},
   "outputs": [],
   "source": [
    "// compare type\n",
    "typeof undefined           // undefined\n",
    "typeof null                // object\n",
    "\n",
    "null === undefined         // false\n",
    "null == undefined          // true"
   ]
  },
  {
   "cell_type": "code",
   "execution_count": null,
   "id": "violent-storage",
   "metadata": {},
   "outputs": [],
   "source": []
  },
  {
   "cell_type": "code",
   "execution_count": 47,
   "id": "excited-tradition",
   "metadata": {},
   "outputs": [
    {
     "name": "stdout",
     "output_type": "stream",
     "text": [
      "2\n"
     ]
    },
    {
     "data": {
      "text/plain": [
       "2"
      ]
     },
     "execution_count": 47,
     "metadata": {},
     "output_type": "execute_result"
    }
   ],
   "source": [
    "// function\n",
    "function myFunction(p1, p2) {\n",
    "  return p1 * p2;   // The function returns the product of p1 and p2\n",
    "}\n",
    "\n",
    "ret = myFunction(1,2);\n",
    "console.log(ret)"
   ]
  },
  {
   "cell_type": "code",
   "execution_count": 46,
   "id": "biological-mention",
   "metadata": {},
   "outputs": [
    {
     "data": {
      "text/plain": [
       "25"
      ]
     },
     "execution_count": 46,
     "metadata": {},
     "output_type": "execute_result"
    }
   ],
   "source": [
    "function toCelsius(fahrenheit) {\n",
    "  return (5/9) * (fahrenheit-32);\n",
    "}\n",
    "\n",
    "toCelsius(77)"
   ]
  },
  {
   "cell_type": "code",
   "execution_count": 53,
   "id": "pressed-riding",
   "metadata": {},
   "outputs": [
    {
     "name": "stdout",
     "output_type": "stream",
     "text": [
      "\n",
      "Volvo\n"
     ]
    },
    {
     "data": {
      "text/plain": [
       "undefined"
      ]
     },
     "execution_count": 53,
     "metadata": {},
     "output_type": "execute_result"
    }
   ],
   "source": [
    "// code here can NOT use carName\n",
    "//carName\n",
    "function myFunction() {\n",
    "  var carName = \"Volvo\";\n",
    "  // code here CAN use carName\n",
    "  console.log(carName);\n",
    "}\n",
    "\n",
    "// code here can NOT use carName\n",
    "console.log(carName)\n",
    "\n",
    "myFunction();"
   ]
  },
  {
   "cell_type": "code",
   "execution_count": 56,
   "id": "unique-current",
   "metadata": {},
   "outputs": [
    {
     "name": "stdout",
     "output_type": "stream",
     "text": [
      "{ firstName: 'John', lastName: 'Doe', age: 50, eyeColor: 'blue' }\n"
     ]
    },
    {
     "data": {
      "text/plain": [
       "undefined"
      ]
     },
     "execution_count": 56,
     "metadata": {},
     "output_type": "execute_result"
    }
   ],
   "source": [
    "// object\n",
    "var person = {\n",
    "  firstName: \"John\",\n",
    "  lastName: \"Doe\",\n",
    "  age: 50,\n",
    "  eyeColor: \"blue\"\n",
    "};\n",
    "\n",
    "console.log(person)"
   ]
  },
  {
   "cell_type": "code",
   "execution_count": 57,
   "id": "photographic-semester",
   "metadata": {},
   "outputs": [
    {
     "data": {
      "text/plain": [
       "'Doe'"
      ]
     },
     "execution_count": 57,
     "metadata": {},
     "output_type": "execute_result"
    }
   ],
   "source": [
    "// access object property\n",
    "person.lastName;"
   ]
  },
  {
   "cell_type": "code",
   "execution_count": 58,
   "id": "excellent-munich",
   "metadata": {},
   "outputs": [
    {
     "data": {
      "text/plain": [
       "'Doe'"
      ]
     },
     "execution_count": 58,
     "metadata": {},
     "output_type": "execute_result"
    }
   ],
   "source": [
    "person[\"lastName\"];"
   ]
  },
  {
   "cell_type": "code",
   "execution_count": 61,
   "id": "nervous-lesbian",
   "metadata": {},
   "outputs": [
    {
     "data": {
      "text/plain": [
       "'John Doe'"
      ]
     },
     "execution_count": 61,
     "metadata": {},
     "output_type": "execute_result"
    }
   ],
   "source": [
    "// Object method\n",
    "var person = {\n",
    "  firstName: \"John\",\n",
    "  lastName : \"Doe\",\n",
    "  id       : 5566,\n",
    "  fullName : function() {\n",
    "    return this.firstName + \" \" + this.lastName;\n",
    "  }\n",
    "};\n",
    "\n",
    "name = person.fullName();\n",
    "name"
   ]
  },
  {
   "cell_type": "code",
   "execution_count": null,
   "id": "eastern-thomson",
   "metadata": {},
   "outputs": [],
   "source": []
  }
 ],
 "metadata": {
  "kernelspec": {
   "display_name": "Javascript (Node.js)",
   "language": "javascript",
   "name": "javascript"
  },
  "language_info": {
   "file_extension": ".js",
   "mimetype": "application/javascript",
   "name": "javascript",
   "version": "13.3.0"
  }
 },
 "nbformat": 4,
 "nbformat_minor": 5
}
